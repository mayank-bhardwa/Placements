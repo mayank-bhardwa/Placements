{
 "cells": [
  {
   "cell_type": "code",
   "execution_count": 1,
   "id": "90e640b3",
   "metadata": {},
   "outputs": [],
   "source": [
    "class Node:\n",
    "    def __init__(self,data):\n",
    "        self.data = data\n",
    "        self.next = None"
   ]
  },
  {
   "cell_type": "code",
   "execution_count": 2,
   "id": "59298889",
   "metadata": {},
   "outputs": [],
   "source": [
    "class LinkedList:\n",
    "    def __init__(self):\n",
    "        self.head = None\n",
    "    \n",
    "    def add(self,x):\n",
    "        if self.head == None:\n",
    "            self.head = Node(x)\n",
    "        else:\n",
    "            temp = self.head\n",
    "            while temp.next != None:\n",
    "                temp = temp.next\n",
    "            temp.next = Node(x)\n",
    "    \n",
    "    def printf(self):\n",
    "        t = self.head\n",
    "        while t != None:\n",
    "            print(t.data,end=' ')\n",
    "            t = t.next\n",
    "        print()\n",
    "    \n",
    "    def remove(self,x):\n",
    "        t = self.head\n",
    "        if t.data == x:\n",
    "            self.head = self.head.next\n",
    "            del(t)\n",
    "            return\n",
    "        p = None\n",
    "        \n",
    "        while t != None and t.data != x:\n",
    "            p = t\n",
    "            t = t.next\n",
    "        \n",
    "        if t == None:\n",
    "            return\n",
    "        \n",
    "        p.next = t.next\n",
    "        del(t)"
   ]
  },
  {
   "cell_type": "code",
   "execution_count": 3,
   "id": "f2b907df",
   "metadata": {},
   "outputs": [],
   "source": [
    "ll = LinkedList()"
   ]
  },
  {
   "cell_type": "code",
   "execution_count": 4,
   "id": "6b2e6edf-a00d-4412-bc3d-27b5aced0665",
   "metadata": {},
   "outputs": [],
   "source": [
    "ll.add(4)\n",
    "ll.add(5)\n",
    "ll.add(6)\n",
    "ll.add(7)\n",
    "ll.add(8)"
   ]
  },
  {
   "cell_type": "code",
   "execution_count": 5,
   "id": "2eb58846-eb4a-4af0-b0c5-6b676551175a",
   "metadata": {},
   "outputs": [
    {
     "name": "stdout",
     "output_type": "stream",
     "text": [
      "4 5 6 7 8 \n"
     ]
    }
   ],
   "source": [
    "ll.printf()"
   ]
  },
  {
   "cell_type": "code",
   "execution_count": 6,
   "id": "23dd9b0b-0a18-4fac-a92b-6bfb63ee3c59",
   "metadata": {},
   "outputs": [
    {
     "name": "stdout",
     "output_type": "stream",
     "text": [
      "4 5 6 8 \n"
     ]
    }
   ],
   "source": [
    "ll.remove(7)\n",
    "ll.printf()"
   ]
  },
  {
   "cell_type": "code",
   "execution_count": 7,
   "id": "42a09816-e577-4215-a381-808079668707",
   "metadata": {},
   "outputs": [
    {
     "name": "stdout",
     "output_type": "stream",
     "text": [
      "5 6 8 \n"
     ]
    }
   ],
   "source": [
    "ll.remove(4)\n",
    "ll.printf()"
   ]
  },
  {
   "cell_type": "code",
   "execution_count": 8,
   "id": "eea44877-3088-43cf-80c9-25186a393660",
   "metadata": {},
   "outputs": [
    {
     "name": "stdout",
     "output_type": "stream",
     "text": [
      "5 6 \n"
     ]
    }
   ],
   "source": [
    "ll.remove(8)\n",
    "ll.printf()"
   ]
  },
  {
   "cell_type": "code",
   "execution_count": 9,
   "id": "18cac14b-6a60-4eeb-989e-0f19a1bbda51",
   "metadata": {},
   "outputs": [
    {
     "name": "stdout",
     "output_type": "stream",
     "text": [
      "5 6 \n"
     ]
    }
   ],
   "source": [
    "ll.remove(9)\n",
    "ll.printf()"
   ]
  },
  {
   "cell_type": "code",
   "execution_count": null,
   "id": "8f703f03-d947-4d97-8d0d-bd1d19a16354",
   "metadata": {},
   "outputs": [],
   "source": []
  }
 ],
 "metadata": {
  "kernelspec": {
   "display_name": "Python 3",
   "language": "python",
   "name": "python3"
  },
  "language_info": {
   "codemirror_mode": {
    "name": "ipython",
    "version": 3
   },
   "file_extension": ".py",
   "mimetype": "text/x-python",
   "name": "python",
   "nbconvert_exporter": "python",
   "pygments_lexer": "ipython3",
   "version": "3.8.10"
  }
 },
 "nbformat": 4,
 "nbformat_minor": 5
}
