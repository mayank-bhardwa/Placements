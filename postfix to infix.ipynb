{
 "cells": [
  {
   "cell_type": "code",
   "execution_count": 1,
   "id": "8a02362d",
   "metadata": {},
   "outputs": [],
   "source": [
    "priority = {'+':1,'-':1,'*':2,'/':2}"
   ]
  },
  {
   "cell_type": "code",
   "execution_count": 11,
   "id": "4dc271ba",
   "metadata": {},
   "outputs": [],
   "source": [
    "def evaluate(expr):\n",
    "    expr=expr.split()\n",
    "    stack=[]\n",
    "    \n",
    "    for i in expr:\n",
    "        if i.isdigit():\n",
    "            stack.append([i,3])\n",
    "        else:\n",
    "            op1 = stack.pop()\n",
    "            op2 = stack.pop()\n",
    "            o1=op1[0]\n",
    "            o2=op2[0]\n",
    "            \n",
    "            if op1[1] < priority[i]:\n",
    "                o1 = \"(\"+o1+\")\"\n",
    "            if op2[1] < priority[i]:\n",
    "                o2 = \"(\"+o2+\")\"\n",
    "            \n",
    "            stack.append([o2+i+o1,priority[i]])\n",
    "            \n",
    "    return (stack.pop())[0]"
   ]
  },
  {
   "cell_type": "code",
   "execution_count": 12,
   "id": "c4dc8a15",
   "metadata": {
    "scrolled": true
   },
   "outputs": [
    {
     "name": "stdout",
     "output_type": "stream",
     "text": [
      "(1+2)*(3+4)\n"
     ]
    }
   ],
   "source": [
    "print(evaluate(\"1 2 + 3 4 + *\"))"
   ]
  }
 ],
 "metadata": {
  "kernelspec": {
   "display_name": "Python 3",
   "language": "python",
   "name": "python3"
  },
  "language_info": {
   "codemirror_mode": {
    "name": "ipython",
    "version": 3
   },
   "file_extension": ".py",
   "mimetype": "text/x-python",
   "name": "python",
   "nbconvert_exporter": "python",
   "pygments_lexer": "ipython3",
   "version": "3.8.10"
  }
 },
 "nbformat": 4,
 "nbformat_minor": 5
}
